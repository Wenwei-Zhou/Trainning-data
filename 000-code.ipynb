{
 "cells": [
  {
   "cell_type": "markdown",
   "id": "53a12abb",
   "metadata": {},
   "source": [
    "Load and explore dataset, do necessary pre-processing and split the dataset into training \n",
    "set and test set with an appropriate ratio. Explain the steps that you have taken (e.g. show \n",
    "dataset size, dealing with missing values, feature exploration and representation, label \n",
    "distribution, split dataset etc)."
   ]
  },
  {
   "cell_type": "code",
   "execution_count": 1,
   "id": "ffddcdd9",
   "metadata": {},
   "outputs": [
    {
     "name": "stdout",
     "output_type": "stream",
     "text": [
      "<class 'pandas.core.frame.DataFrame'>\n",
      "RangeIndex: 1197 entries, 0 to 1196\n",
      "Data columns (total 15 columns):\n",
      " #   Column                 Non-Null Count  Dtype  \n",
      "---  ------                 --------------  -----  \n",
      " 0   date                   1197 non-null   object \n",
      " 1   quarter                1197 non-null   object \n",
      " 2   department             1197 non-null   object \n",
      " 3   day                    1197 non-null   object \n",
      " 4   team                   1197 non-null   int64  \n",
      " 5   targeted_productivity  1197 non-null   float64\n",
      " 6   smv                    1197 non-null   float64\n",
      " 7   wip                    691 non-null    float64\n",
      " 8   over_time              1197 non-null   int64  \n",
      " 9   incentive              1197 non-null   int64  \n",
      " 10  idle_time              1197 non-null   float64\n",
      " 11  idle_men               1197 non-null   int64  \n",
      " 12  no_of_style_change     1197 non-null   int64  \n",
      " 13  no_of_workers          1197 non-null   float64\n",
      " 14  actual_productivity    1197 non-null   float64\n",
      "dtypes: float64(6), int64(5), object(4)\n",
      "memory usage: 140.4+ KB\n"
     ]
    }
   ],
   "source": [
    "import pandas as pd\n",
    "import numpy as np\n",
    "df=pd.read_csv(\"garments_worker_productivity.csv\")\n",
    "df.info(verbose=True)"
   ]
  },
  {
   "cell_type": "code",
   "execution_count": 2,
   "id": "8a34a243",
   "metadata": {},
   "outputs": [],
   "source": [
    "x = df.iloc[:, 4:-1]\n",
    "y = df.iloc[:,-1]\n",
    "x[np.isnan(x)] = 0"
   ]
  },
  {
   "cell_type": "code",
   "execution_count": 3,
   "id": "55c86a39",
   "metadata": {},
   "outputs": [
    {
     "name": "stdout",
     "output_type": "stream",
     "text": [
      "[[0.63636364 1.         0.45025165 ... 0.         0.         0.65517241]\n",
      " [0.         0.93150685 0.02013163 ... 0.         0.         0.06896552]\n",
      " [0.90909091 1.         0.16473093 ... 0.         0.         0.32758621]\n",
      " ...\n",
      " [0.54545455 0.79452055 0.01935734 ... 0.         0.         0.06896552]\n",
      " [0.72727273 0.93150685 0.         ... 0.         0.         0.14942529]\n",
      " [0.45454545 0.8630137  0.         ... 0.         0.         0.04597701]]\n"
     ]
    }
   ],
   "source": [
    "from sklearn.preprocessing import MinMaxScaler\n",
    "\n",
    "scaler = MinMaxScaler()\n",
    "scaler.fit(x)\n",
    "\n",
    "MinMaxScaler()\n",
    "\n",
    "print(scaler.transform(x))"
   ]
  },
  {
   "cell_type": "code",
   "execution_count": 4,
   "id": "f8cc0cd9",
   "metadata": {},
   "outputs": [
    {
     "name": "stdout",
     "output_type": "stream",
     "text": [
      "Train shape:  (837, 10)\n",
      "Test shape:  (360, 10)\n"
     ]
    }
   ],
   "source": [
    "from sklearn.model_selection import train_test_split\n",
    "from sklearn.preprocessing import StandardScaler\n",
    "\n",
    "X_train, X_test, y_train, y_test = train_test_split(x, y, test_size=0.3, random_state=42)\n",
    "\n",
    "scaler = StandardScaler()\n",
    "\n",
    "scaler.fit(X_train)\n",
    "\n",
    "X_train = scaler.transform(X_train)\n",
    "X_test = scaler.transform(X_test)\n",
    "\n",
    "print(\"Train shape: \",X_train.shape)\n",
    "print(\"Test shape: \",X_test.shape)"
   ]
  },
  {
   "cell_type": "markdown",
   "id": "5330167b",
   "metadata": {},
   "source": [
    "Based on the training data, create three supervised machine learning (ML) models for \n",
    "predicting actual_productivity."
   ]
  },
  {
   "cell_type": "code",
   "execution_count": 5,
   "id": "d0da1d7d",
   "metadata": {},
   "outputs": [
    {
     "data": {
      "text/plain": [
       "0.11343890896430571"
      ]
     },
     "execution_count": 5,
     "metadata": {},
     "output_type": "execute_result"
    }
   ],
   "source": [
    "from sklearn.neighbors import KNeighborsRegressor\n",
    "from sklearn import metrics\n",
    "from sklearn.metrics import mean_squared_error\n",
    "from math import sqrt\n",
    "from sklearn.metrics import mean_squared_error, r2_score, mean_absolute_error, median_absolute_error\n",
    "from sklearn.metrics import accuracy_score\n",
    "\n",
    "knn_model = KNeighborsRegressor(n_neighbors=5)\n",
    "\n",
    "#Fit the model using our training data\n",
    "knn_model.fit(X_train, y_train)\n",
    "\n",
    "train_preds = knn_model.predict(X_train)\n",
    "mse = mean_squared_error(y_train, train_preds)\n",
    "rmse = sqrt(mse)\n",
    "rmse"
   ]
  },
  {
   "cell_type": "code",
   "execution_count": 6,
   "id": "732ef06e",
   "metadata": {},
   "outputs": [
    {
     "data": {
      "text/plain": [
       "0.1374115738373527"
      ]
     },
     "execution_count": 6,
     "metadata": {},
     "output_type": "execute_result"
    }
   ],
   "source": [
    "test_preds = knn_model.predict(X_test)\n",
    "mse = mean_squared_error(y_test, test_preds)\n",
    "rmse = sqrt(mse)\n",
    "rmse"
   ]
  },
  {
   "cell_type": "code",
   "execution_count": 7,
   "id": "87bf5e24",
   "metadata": {},
   "outputs": [
    {
     "data": {
      "text/plain": [
       "0.020401235994148736"
      ]
     },
     "execution_count": 7,
     "metadata": {},
     "output_type": "execute_result"
    }
   ],
   "source": [
    "from sklearn.datasets import make_blobs\n",
    "from sklearn.model_selection import RepeatedStratifiedKFold\n",
    "from sklearn.model_selection import GridSearchCV\n",
    "\n",
    "n_neighbors = range(1, 21, 2)\n",
    "weights = ['uniform', 'distance']\n",
    "metric = ['euclidean', 'manhattan', 'minkowski']\n",
    "grid = dict(n_neighbors=n_neighbors,weights=weights,metric=metric)\n",
    "cv = RepeatedStratifiedKFold(n_splits=10, n_repeats=3, random_state=1)\n",
    "rf_gs = GridSearchCV(estimator=knn_model, param_grid=grid, n_jobs=-1, scoring='neg_mean_squared_error',error_score=0)\n",
    "\n",
    "rf_gs.fit(X_train, y_train)\n",
    "\n",
    "best_model = rf_gs.best_estimator_\n",
    "mean_squared_error(best_model.predict(X_test), y_test)"
   ]
  },
  {
   "cell_type": "code",
   "execution_count": 8,
   "id": "43a84659",
   "metadata": {},
   "outputs": [
    {
     "data": {
      "text/plain": [
       "0.015677360911351947"
      ]
     },
     "execution_count": 8,
     "metadata": {},
     "output_type": "execute_result"
    }
   ],
   "source": [
    "mean_squared_error(best_model.predict(X_train), y_train)"
   ]
  },
  {
   "cell_type": "code",
   "execution_count": 9,
   "id": "b435173d",
   "metadata": {
    "scrolled": false
   },
   "outputs": [
    {
     "name": "stdout",
     "output_type": "stream",
     "text": [
      "Fitting 5 folds for each of 18 candidates, totalling 90 fits\n"
     ]
    },
    {
     "data": {
      "text/plain": [
       "0.02006012716333887"
      ]
     },
     "execution_count": 9,
     "metadata": {},
     "output_type": "execute_result"
    }
   ],
   "source": [
    "from sklearn.svm import SVR\n",
    "from sklearn import svm\n",
    "\n",
    "parameters_dictionary = {'kernel':['linear', 'rbf'], 'C':[0.0001, 1, 10], 'gamma':[1, 10, 100]}\n",
    "svr = SVR()\n",
    "\n",
    "grid_search = GridSearchCV(svr, parameters_dictionary, return_train_score=True, cv = 5, verbose = 1, scoring='explained_variance',error_score='raise')\n",
    "grid_search.fit(X_train, y_train)\n",
    "\n",
    "best_model2 = grid_search.best_estimator_\n",
    "mean_squared_error(best_model2.predict(X_test), y_test)"
   ]
  },
  {
   "cell_type": "code",
   "execution_count": 10,
   "id": "c56de61d",
   "metadata": {},
   "outputs": [
    {
     "data": {
      "text/plain": [
       "0.012384285885946027"
      ]
     },
     "execution_count": 10,
     "metadata": {},
     "output_type": "execute_result"
    }
   ],
   "source": [
    "mean_squared_error(best_model2.predict(X_train), y_train)"
   ]
  },
  {
   "cell_type": "code",
   "execution_count": 11,
   "id": "8e549786",
   "metadata": {},
   "outputs": [
    {
     "data": {
      "text/plain": [
       "0.21433378846045814"
      ]
     },
     "execution_count": 11,
     "metadata": {},
     "output_type": "execute_result"
    }
   ],
   "source": [
    "from sklearn.neural_network import MLPRegressor\n",
    "from sklearn.datasets import make_regression\n",
    "from sklearn.model_selection import train_test_split\n",
    "\n",
    "regr = MLPRegressor(random_state=1, max_iter=500).fit(X_train, y_train)\n",
    "\n",
    "regr.predict(X_test)\n",
    "regr.score(X_test, y_test)"
   ]
  },
  {
   "cell_type": "code",
   "execution_count": 12,
   "id": "3f5c75e7",
   "metadata": {},
   "outputs": [
    {
     "data": {
      "text/html": [
       "<style>#sk-container-id-1 {color: black;background-color: white;}#sk-container-id-1 pre{padding: 0;}#sk-container-id-1 div.sk-toggleable {background-color: white;}#sk-container-id-1 label.sk-toggleable__label {cursor: pointer;display: block;width: 100%;margin-bottom: 0;padding: 0.3em;box-sizing: border-box;text-align: center;}#sk-container-id-1 label.sk-toggleable__label-arrow:before {content: \"▸\";float: left;margin-right: 0.25em;color: #696969;}#sk-container-id-1 label.sk-toggleable__label-arrow:hover:before {color: black;}#sk-container-id-1 div.sk-estimator:hover label.sk-toggleable__label-arrow:before {color: black;}#sk-container-id-1 div.sk-toggleable__content {max-height: 0;max-width: 0;overflow: hidden;text-align: left;background-color: #f0f8ff;}#sk-container-id-1 div.sk-toggleable__content pre {margin: 0.2em;color: black;border-radius: 0.25em;background-color: #f0f8ff;}#sk-container-id-1 input.sk-toggleable__control:checked~div.sk-toggleable__content {max-height: 200px;max-width: 100%;overflow: auto;}#sk-container-id-1 input.sk-toggleable__control:checked~label.sk-toggleable__label-arrow:before {content: \"▾\";}#sk-container-id-1 div.sk-estimator input.sk-toggleable__control:checked~label.sk-toggleable__label {background-color: #d4ebff;}#sk-container-id-1 div.sk-label input.sk-toggleable__control:checked~label.sk-toggleable__label {background-color: #d4ebff;}#sk-container-id-1 input.sk-hidden--visually {border: 0;clip: rect(1px 1px 1px 1px);clip: rect(1px, 1px, 1px, 1px);height: 1px;margin: -1px;overflow: hidden;padding: 0;position: absolute;width: 1px;}#sk-container-id-1 div.sk-estimator {font-family: monospace;background-color: #f0f8ff;border: 1px dotted black;border-radius: 0.25em;box-sizing: border-box;margin-bottom: 0.5em;}#sk-container-id-1 div.sk-estimator:hover {background-color: #d4ebff;}#sk-container-id-1 div.sk-parallel-item::after {content: \"\";width: 100%;border-bottom: 1px solid gray;flex-grow: 1;}#sk-container-id-1 div.sk-label:hover label.sk-toggleable__label {background-color: #d4ebff;}#sk-container-id-1 div.sk-serial::before {content: \"\";position: absolute;border-left: 1px solid gray;box-sizing: border-box;top: 0;bottom: 0;left: 50%;z-index: 0;}#sk-container-id-1 div.sk-serial {display: flex;flex-direction: column;align-items: center;background-color: white;padding-right: 0.2em;padding-left: 0.2em;position: relative;}#sk-container-id-1 div.sk-item {position: relative;z-index: 1;}#sk-container-id-1 div.sk-parallel {display: flex;align-items: stretch;justify-content: center;background-color: white;position: relative;}#sk-container-id-1 div.sk-item::before, #sk-container-id-1 div.sk-parallel-item::before {content: \"\";position: absolute;border-left: 1px solid gray;box-sizing: border-box;top: 0;bottom: 0;left: 50%;z-index: -1;}#sk-container-id-1 div.sk-parallel-item {display: flex;flex-direction: column;z-index: 1;position: relative;background-color: white;}#sk-container-id-1 div.sk-parallel-item:first-child::after {align-self: flex-end;width: 50%;}#sk-container-id-1 div.sk-parallel-item:last-child::after {align-self: flex-start;width: 50%;}#sk-container-id-1 div.sk-parallel-item:only-child::after {width: 0;}#sk-container-id-1 div.sk-dashed-wrapped {border: 1px dashed gray;margin: 0 0.4em 0.5em 0.4em;box-sizing: border-box;padding-bottom: 0.4em;background-color: white;}#sk-container-id-1 div.sk-label label {font-family: monospace;font-weight: bold;display: inline-block;line-height: 1.2em;}#sk-container-id-1 div.sk-label-container {text-align: center;}#sk-container-id-1 div.sk-container {/* jupyter's `normalize.less` sets `[hidden] { display: none; }` but bootstrap.min.css set `[hidden] { display: none !important; }` so we also need the `!important` here to be able to override the default hidden behavior on the sphinx rendered scikit-learn.org. See: https://github.com/scikit-learn/scikit-learn/issues/21755 */display: inline-block !important;position: relative;}#sk-container-id-1 div.sk-text-repr-fallback {display: none;}</style><div id=\"sk-container-id-1\" class=\"sk-top-container\"><div class=\"sk-text-repr-fallback\"><pre>DecisionTreeRegressor(random_state=0)</pre><b>In a Jupyter environment, please rerun this cell to show the HTML representation or trust the notebook. <br />On GitHub, the HTML representation is unable to render, please try loading this page with nbviewer.org.</b></div><div class=\"sk-container\" hidden><div class=\"sk-item\"><div class=\"sk-estimator sk-toggleable\"><input class=\"sk-toggleable__control sk-hidden--visually\" id=\"sk-estimator-id-1\" type=\"checkbox\" checked><label for=\"sk-estimator-id-1\" class=\"sk-toggleable__label sk-toggleable__label-arrow\">DecisionTreeRegressor</label><div class=\"sk-toggleable__content\"><pre>DecisionTreeRegressor(random_state=0)</pre></div></div></div></div></div>"
      ],
      "text/plain": [
       "DecisionTreeRegressor(random_state=0)"
      ]
     },
     "execution_count": 12,
     "metadata": {},
     "output_type": "execute_result"
    }
   ],
   "source": [
    "from sklearn.tree import DecisionTreeRegressor \n",
    "\n",
    "treereg = DecisionTreeRegressor(random_state=0)\n",
    "\n",
    "treereg.fit(X_train, y_train)"
   ]
  },
  {
   "cell_type": "code",
   "execution_count": 13,
   "id": "8a02cb81",
   "metadata": {},
   "outputs": [
    {
     "name": "stdout",
     "output_type": "stream",
     "text": [
      "[0.60071061 0.80003139 0.66629972 0.5759     0.54072917 0.80098039\n",
      " 0.44872222 0.44872222 0.65019865 0.75039551 0.80053448 0.91158974\n",
      " 0.80059447 0.90808081 0.90014152 0.99138889 1.00023041 0.60103709\n",
      " 0.63040292 0.94072542 1.00023041 0.70071042 0.93903333 0.75571389\n",
      " 0.93034038 0.36107143 0.75548611 1.00023041 0.70005833 0.89284722\n",
      " 0.95018596 0.80040196 0.87555556 0.79263333 0.70025078 0.41155357\n",
      " 0.79675556 0.80059447 0.80040196 0.72872917 0.80030279 0.85050231\n",
      " 0.68184186 0.90032111 0.75065101 0.80040196 0.41989583 1.01783333\n",
      " 0.80014865 0.86262121 0.80061268 0.8        0.59289063 0.8\n",
      " 0.59289063 0.64998328 0.57496528 0.75047368 0.89284722 0.90939167\n",
      " 0.67536222 0.97462121 0.52681035 0.79657143 0.50080172 0.73708333\n",
      " 0.80038636 0.93034038 0.4321229  0.70061823 0.80064381 0.74290124\n",
      " 0.70048083 0.71220525 0.75054546 0.66068329 0.80023784 0.69996522\n",
      " 1.05962121 0.80061268 0.8000345  0.94070106 0.85036207 0.67536222\n",
      " 0.75003797 0.36605352 0.70001988 0.86262121 1.00045747 0.49654971\n",
      " 0.55040351 0.78729969 0.80012872 0.70025078 0.710125   0.75002778\n",
      " 0.70060345 0.85043644 0.75006805 0.80484848 0.80007184 0.85044615\n",
      " 1.0006713  0.65552083 0.75062135 0.75039216 0.70071042 0.84583333\n",
      " 0.75065101 0.80070175 0.80062987 0.86132778 0.65433239 1.00141667\n",
      " 0.7005731  0.80040196 0.85050231 0.80059447 0.70043672 0.52681035\n",
      " 0.35553448 0.89284722 0.66541667 0.70061823 0.75039551 0.80002056\n",
      " 0.9008     0.90021572 0.80040196 0.79996322 0.66629972 0.70001988\n",
      " 0.63040292 0.65433239 0.50080172 0.79657143 0.38883036 0.81393939\n",
      " 0.26369382 0.75003145 0.80037492 0.92160494 0.54979167 0.30750146\n",
      " 0.70005833 0.80030279 0.38883036 0.8471     0.35553448 0.41211983\n",
      " 0.87115    0.65433239 0.8001171  0.80007184 0.67308333 0.75051756\n",
      " 0.75051756 0.94070106 0.95018596 0.94070106 0.35030172 0.57951149\n",
      " 0.75065101 0.56221264 0.70009556 0.30750146 0.85013677 0.70043672\n",
      " 0.70054044 0.800125   0.31416667 0.80053498 0.85018182 0.70090357\n",
      " 0.85050231 0.80040196 0.97462121 0.6502435  0.85050231 0.87555556\n",
      " 0.80001501 0.88362708 0.66629972 0.57496528 0.7953875  0.32954545\n",
      " 0.47930556 0.71238384 0.89219444 0.66541667 0.7000638  0.70001988\n",
      " 0.69996522 0.85018182 0.73327778 0.85050231 0.70050526 1.0006713\n",
      " 0.70017039 0.38883036 0.72872917 0.90509259 0.35553448 0.85043644\n",
      " 0.30933333 0.86262121 0.90291667 0.70005833 0.80040196 0.75006805\n",
      " 0.700422   0.710125   0.710125   0.75079701 0.75051756 0.85013677\n",
      " 0.65119444 0.95627083 0.79657143 0.8000345  0.75047368 0.90509259\n",
      " 0.75065172 0.59289063 0.80002056 0.94070106 0.86132778 0.82718654\n",
      " 0.66629972 1.00023041 0.37046657 0.86262121 0.30750146 0.94070106\n",
      " 0.56221264 0.70017039 0.84545833 0.528125   0.8471     0.80080864\n",
      " 0.70050526 0.9504386  0.62833333 0.79675556 0.8001171  0.64998328\n",
      " 0.72872917 0.7502069  0.82718654 0.80777462 0.66428819 0.73875\n",
      " 0.75006805 0.80012872 0.47355587 0.80037492 0.85013677 0.85056949\n",
      " 0.85013677 0.30933333 0.86458333 0.91220211 0.86132778 0.56221264\n",
      " 0.93041667 0.602      0.85018182 0.60128    0.75077012 0.53567797\n",
      " 0.80037492 0.67536222 0.65030714 0.75077012 0.80040196 0.67666667\n",
      " 0.800125   0.92638889 0.80062987 0.80059447 0.80035521 0.70054044\n",
      " 0.80031343 0.95018596 0.72872917 0.80033333 0.93034038 0.56597222\n",
      " 0.79657143 0.75047368 0.92319444 0.32740741 0.36107143 0.71220525\n",
      " 0.50025805 0.70071042 0.90014152 0.28305449 0.80040196 0.82935\n",
      " 0.75064667 0.80024675 0.79657143 0.82718654 0.47355587 0.79263333\n",
      " 0.3715625  0.95011458 0.37046657 0.60027327 0.80031343 0.57496528\n",
      " 0.54979167 0.86261837 0.9520202  0.79657143 0.700422   0.72872917\n",
      " 0.5003808  0.50052809 0.75039551 0.70090357 0.77419508 0.80040196\n",
      " 0.53567797 0.9520202  0.6502435  0.80040196 0.35006699 0.74998712\n",
      " 0.80031343 0.77419508 0.60027327 0.700422   0.38709754 0.35041667\n",
      " 0.97462121 0.899      0.80059447 0.75064667 0.66541667 0.80030279\n",
      " 0.85056949 0.38709754 0.62657778 1.0006713  0.9008     0.35063299\n",
      " 0.35041667 0.97462121 0.66629972 0.80023784 0.60017284 0.78729969\n",
      " 0.80068437 0.64966222 0.85050231 0.68159804 0.75368348 0.8       ]\n"
     ]
    }
   ],
   "source": [
    "y_pred = treereg.predict(X_test)\n",
    "  \n",
    "# print the predicted price\n",
    "print(y_pred)"
   ]
  },
  {
   "cell_type": "code",
   "execution_count": 14,
   "id": "90dd7574",
   "metadata": {},
   "outputs": [
    {
     "name": "stdout",
     "output_type": "stream",
     "text": [
      "Fitting 4 folds for each of 8 candidates, totalling 32 fits\n"
     ]
    },
    {
     "data": {
      "text/plain": [
       "0.02172418777523458"
      ]
     },
     "execution_count": 14,
     "metadata": {},
     "output_type": "execute_result"
    }
   ],
   "source": [
    "param_grid = {\"max_depth\": np.arange(2, 10, 1)}\n",
    "\n",
    "tree_reg = GridSearchCV(DecisionTreeRegressor(), param_grid=param_grid, cv=4, n_jobs=-1, verbose=1, scoring = \"neg_mean_squared_error\")\n",
    "\n",
    "tree_reg.fit(X_train, y_train)\n",
    "\n",
    "best_model3 = tree_reg.best_estimator_\n",
    "mean_squared_error(best_model3.predict(X_test), y_test)"
   ]
  },
  {
   "cell_type": "code",
   "execution_count": 15,
   "id": "c65a2a25",
   "metadata": {},
   "outputs": [
    {
     "data": {
      "text/plain": [
       "0.01478299506846913"
      ]
     },
     "execution_count": 15,
     "metadata": {},
     "output_type": "execute_result"
    }
   ],
   "source": [
    "mean_squared_error(best_model3.predict(X_train), y_train)"
   ]
  },
  {
   "cell_type": "code",
   "execution_count": 16,
   "id": "becd40d0",
   "metadata": {},
   "outputs": [],
   "source": [
    "from sklearn.ensemble import RandomForestRegressor\n",
    "\n",
    "from sklearn.model_selection import GridSearchCV\n",
    "from sklearn.metrics import accuracy_score\n",
    " \n",
    "# create regressor object\n",
    "regressor = RandomForestRegressor(n_estimators=100, random_state=0)\n",
    "\n",
    "#create a dictionary of all values we want to test for n_estimators\n",
    "params_rf = {'n_estimators': [50, 100, 200], 'max_depth' : [None, 10, 20, 30]}\n",
    "\n",
    "rf_gs = GridSearchCV(estimator=regressor, param_grid=params_rf, cv=5, scoring = \"neg_mean_squared_error\", error_score='raise')\n",
    "#fit model to training data\n",
    "rf_gs.fit(X_train, y_train)\n",
    "\n",
    "best_model4 = rf_gs.best_estimator_"
   ]
  },
  {
   "cell_type": "code",
   "execution_count": 17,
   "id": "522243fd",
   "metadata": {},
   "outputs": [
    {
     "data": {
      "text/plain": [
       "0.01649823541122549"
      ]
     },
     "execution_count": 17,
     "metadata": {},
     "output_type": "execute_result"
    }
   ],
   "source": [
    "mean_squared_error(best_model4.predict(X_test), y_test)"
   ]
  },
  {
   "cell_type": "code",
   "execution_count": 18,
   "id": "08e941f8",
   "metadata": {},
   "outputs": [
    {
     "data": {
      "text/plain": [
       "0.0056328234433409416"
      ]
     },
     "execution_count": 18,
     "metadata": {},
     "output_type": "execute_result"
    }
   ],
   "source": [
    "mean_squared_error(best_model4.predict(X_train), y_train)"
   ]
  },
  {
   "cell_type": "markdown",
   "id": "6be1f026",
   "metadata": {},
   "source": [
    "Analyse the importance of the features for predicting actual_productivity using two \n",
    "different approaches. Give statistical reasons of your findings."
   ]
  },
  {
   "cell_type": "code",
   "execution_count": 19,
   "id": "d70b278e",
   "metadata": {},
   "outputs": [
    {
     "name": "stdout",
     "output_type": "stream",
     "text": [
      "[0.11527549 0.29661608 0.1652415  0.03890305 0.1242086  0.1233185\n",
      " 0.00877731 0.01514752 0.00433447 0.10817748]\n"
     ]
    }
   ],
   "source": [
    "import pandas as pd\n",
    "import numpy as np\n",
    "importances = best_model4.feature_importances_\n",
    "print(importances)"
   ]
  },
  {
   "cell_type": "code",
   "execution_count": 20,
   "id": "8c9e687f",
   "metadata": {},
   "outputs": [
    {
     "data": {
      "image/png": "[encoded data removed]",
      "text/plain": [
       "<Figure size 432x288 with 1 Axes>"
      ]
     },
     "metadata": {
      "needs_background": "light"
     },
     "output_type": "display_data"
    },
    {
     "data": {
      "image/png": "[encoded data removed]",
      "text/plain": [
       "<Figure size 432x288 with 1 Axes>"
      ]
     },
     "metadata": {
      "needs_background": "light"
     },
     "output_type": "display_data"
    },
    {
     "data": {
      "image/png": "[encoded data removed]",
      "text/plain": [
       "<Figure size 432x288 with 1 Axes>"
      ]
     },
     "metadata": {
      "needs_background": "light"
     },
     "output_type": "display_data"
    },
    {
     "data": {
      "image/png": "[encoded data removed]",
      "text/plain": [
       "<Figure size 432x288 with 1 Axes>"
      ]
     },
     "metadata": {
      "needs_background": "light"
     },
     "output_type": "display_data"
    }
   ],
   "source": [
    "import numpy as np\n",
    "from sklearn.inspection import permutation_importance\n",
    "import matplotlib.pyplot as plt\n",
    "\n",
    "model_list = {best_model, best_model2, best_model3, best_model4}\n",
    "\n",
    "for models in model_list:\n",
    "    perm = permutation_importance(models, X_test, y_test, n_repeats=10, random_state=42)\n",
    "\n",
    "    X_train = pd.DataFrame(X_train, columns = x.columns)\n",
    "\n",
    "    importance_score = perm.importances_mean\n",
    "    feature_name = list(X_train.columns)\n",
    "\n",
    "    plt.bar(feature_name, importance_score)\n",
    "    plt.xticks(rotation = 'vertical')\n",
    "\n",
    "    plt.xlabel(\"feature\")\n",
    "    plt.ylabel(\"imporance score\")\n",
    "    plt.title(str(models))\n",
    "    plt.tight_layout()\n",
    "    plt.show()"
   ]
  }
 ],
 "metadata": {
  "kernelspec": {
   "display_name": "Python 3 (ipykernel)",
   "language": "python",
   "name": "python3"
  },
  "language_info": {
   "codemirror_mode": {
    "name": "ipython",
    "version": 3
   },
   "file_extension": ".py",
   "mimetype": "text/x-python",
   "name": "python",
   "nbconvert_exporter": "python",
   "pygments_lexer": "ipython3",
   "version": "3.9.7"
  }
 },
 "nbformat": 4,
 "nbformat_minor": 5
}
